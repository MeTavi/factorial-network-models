{
 "cells": [
  {
   "cell_type": "markdown",
   "metadata": {},
   "source": [
    "# Latent Space Models\n",
    "\n",
    "Let's start with a much simpler version of the model.\n",
    "\n",
    "### Notation:\n",
    "\n",
    "- $V$:  number of vertices\n",
    "- $D$:  latent space dimensionality\n",
    "- $A \\in \\{0, 1\\}^{V \\times V}$:  binary adjacency matrix\n",
    "- $b$: connection probability bias\n",
    "- $X \\in \\mathbb{R}^{V \\times D}$: latent embedding\n",
    "\n",
    "### Probabilistic model:\n",
    "\n",
    "- $x_v \\sim \\mathcal{N}(0, I_D)$\n",
    "- $b \\sim \\mathcal{N}(0, 1)$ \n",
    "- $A_{u,v} \\sim \\text{Bern}\\left(\\sigma(b + x_u^{\\mathsf{T}} x_v ) \\right); \\quad u < v$\n",
    "- $A_{v,v} \\triangleq 0$ \n",
    "- $A_{v,u} \\triangleq A_{u,v}$\n",
    "- where $\\sigma(x) = (1+ e^{-x})^{-1}$\n",
    "\n",
    "\n",
    "### Multi-network extension\n",
    "\n",
    "- $Z \\in \\mathbb{R}^{V \\times V}$: per-connection bias\n"
   ]
  },
  {
   "cell_type": "code",
   "execution_count": 99,
   "metadata": {
    "collapsed": true
   },
   "outputs": [],
   "source": [
    "import numpy as np\n",
    "import numpy.random as npr\n",
    "npr.seed(0)\n",
    "\n",
    "import matplotlib.pyplot as plt\n",
    "%matplotlib inline\n",
    "\n",
    "import seaborn as sns\n",
    "sns.set_style(\"white\")\n",
    "sns.set_context(\"talk\")\n",
    "\n",
    "import pypolyagamma as ppg\n",
    "from pypolyagamma import BinomialRegression\n",
    "\n",
    "from pybasicbayes.util.text import progprint_xrange"
   ]
  },
  {
   "cell_type": "code",
   "execution_count": 100,
   "metadata": {
    "collapsed": true
   },
   "outputs": [],
   "source": [
    "class LatentSpaceModel(object):\n",
    "    def __init__(self, V, D, X=None, b=None):\n",
    "        self.V, self.D = V, D\n",
    "        \n",
    "        # Initialize parameters\n",
    "        self.X = npr.randn(V, D) if X is None else X\n",
    "        self.b = npr.randn() if b is None else b\n",
    "        \n",
    "        # Models encapsulate data\n",
    "        self.As = []\n",
    "\n",
    "    def add_data(self, A):\n",
    "        assert A.shape == (self.V, self.V)\n",
    "        assert A.dtype == bool\n",
    "        assert A.min() >= 0 and A.max() <= 1\n",
    "        self.As.append(A)\n",
    "        \n",
    "    def resample(self):\n",
    "        self._resample_X()\n",
    "    \n",
    "    def _resample_X(self):\n",
    "        # resample rows one at a time given the remainder\n",
    "        #\n",
    "        #     p(x_v | A, {x_u}_{u \\neq v}, b)\n",
    "        #\n",
    "        # Since the matrix is symmetric, we only need the v-th column\n",
    "        # \n",
    "        # \\propto \\prod_{u != v} p(A_{u,v} | x_u, x_v, b)  p(x_v | 0, I)\n",
    "        # \\propto \\prod_{u != v} Bern(A_{u,v} | \\sigma(x_u \\dot x_v + b))  N(x_v | 0, I)\n",
    "        V, D = self.V, self.D\n",
    "        X, b = self.X, self.b\n",
    "        N = len(self.As)\n",
    "        for v in range(V):\n",
    "            reg = BinomialRegression(N, D_out=1, D_in=D, \n",
    "                                     A=X[v][None,:], mu_A=0, sigmasq_A=1,\n",
    "                                     b=b*np.ones((1,1)), mu_b=b, sigmasq_b=1e-8)\n",
    "            nv = np.ones(V, dtype=bool); nv[v] = False\n",
    "            Xnv = X[nv]\n",
    "            Anv = np.sum([A[v][nv][:,None] for A in self.As], axis=0)            \n",
    "            reg.resample((Xnv, Anv))\n",
    "            X[v] = reg.A\n",
    "    \n",
    "    def _resample_b(self):\n",
    "        # A[u,v] ~ Bern(\\sigma(b + x_u * x_v))\n",
    "        pass\n",
    "    \n",
    "    def edge_probabilities(self):\n",
    "        V, X, b = self.V, self.X, self.b\n",
    "        psi = X.dot(X.T) + b\n",
    "        return 1./(1+np.exp(-psi))\n",
    "            \n",
    "    def generate(self):\n",
    "        V, X, b = self.V, self.X, self.b\n",
    "        A = npr.rand(V,V) < self.rho()\n",
    "        # A[np.triu_indices(V)] = A[np.tril_indices(V)] \n",
    "        A[np.arange(V), np.arange(V)] = 0\n",
    "        for u in range(V):\n",
    "            for v in range(u):\n",
    "                A[u,v] = A[v,u]\n",
    "        return A\n",
    "    "
   ]
  },
  {
   "cell_type": "code",
   "execution_count": 101,
   "metadata": {
    "collapsed": false
   },
   "outputs": [
    {
     "data": {
      "text/plain": [
       "<matplotlib.image.AxesImage at 0x133bf9a58>"
      ]
     },
     "execution_count": 101,
     "metadata": {},
     "output_type": "execute_result"
    },
    {
     "data": {
      "image/png": "[encoded data removed]",
      "text/plain": [
       "<matplotlib.figure.Figure at 0x10bf35978>"
      ]
     },
     "metadata": {},
     "output_type": "display_data"
    }
   ],
   "source": [
    "V = 100\n",
    "D = 2\n",
    "N = 20\n",
    "X = np.column_stack((np.linspace(-2, 2, V), np.zeros((V, D-1))))\n",
    "true_model = LatentSpaceModel(V, D, X=X, b=0)\n",
    "As = [true_model.generate() for _ in range(N)]\n",
    "\n",
    "plt.imshow(As[0], vmin=0, vmax=1, interpolation=\"nearest\")"
   ]
  },
  {
   "cell_type": "code",
   "execution_count": 102,
   "metadata": {
    "collapsed": false
   },
   "outputs": [
    {
     "name": "stdout",
     "output_type": "stream",
     "text": [
      ".........................  [  25/200,    0.06sec avg, ETA 9.76 ]\n",
      ".........................  [  50/200,    0.05sec avg, ETA 8.23 ]\n",
      ".........................  [  75/200,    0.05sec avg, ETA 6.84 ]\n",
      ".........................  [ 100/200,    0.05sec avg, ETA 5.46 ]\n",
      ".........................  [ 125/200,    0.05sec avg, ETA 4.11 ]\n",
      ".........................  [ 150/200,    0.05sec avg, ETA 2.75 ]\n",
      ".........................  [ 175/200,    0.05sec avg, ETA 1.37 ]\n",
      ".........................  [ 200/200,    0.05sec avg, ETA 0.00 ]\n",
      "\n",
      "   0.05sec avg, 10.98 total\n",
      "\n"
     ]
    }
   ],
   "source": [
    "test_model = LatentSpaceModel(V, D, b=0)\n",
    "for A in As:\n",
    "    test_model.add_data(A)\n",
    "\n",
    "for _ in progprint_xrange(200):\n",
    "    test_model.resample()\n"
   ]
  },
  {
   "cell_type": "code",
   "execution_count": 103,
   "metadata": {
    "collapsed": false
   },
   "outputs": [
    {
     "data": {
      "text/plain": [
       "<matplotlib.image.AxesImage at 0x133c62860>"
      ]
     },
     "execution_count": 103,
     "metadata": {},
     "output_type": "execute_result"
    },
    {
     "data": {
      "image/png": "[encoded data removed]",
      "text/plain": [
       "<matplotlib.figure.Figure at 0x133c04320>"
      ]
     },
     "metadata": {},
     "output_type": "display_data"
    }
   ],
   "source": [
    "plt.subplot(121)\n",
    "plt.imshow(true_model.edge_probabilities(), vmin=0, vmax=1, interpolation=\"nearest\")\n",
    "plt.subplot(122)\n",
    "plt.imshow(test_model.edge_probabilities(), vmin=0, vmax=1, interpolation=\"nearest\")"
   ]
  },
  {
   "cell_type": "markdown",
   "metadata": {},
   "source": [
    "# Factorial Latent Space Models\n",
    "\n",
    "Now give each network a binary mask $\\boldsymbol{m}_n \\in \\{0,1\\}^D$ specifying which latent factors contribute to its conditional edge probabilities.\n",
    "\n"
   ]
  },
  {
   "cell_type": "code",
   "execution_count": null,
   "metadata": {
    "collapsed": true
   },
   "outputs": [],
   "source": [
    "class FactorialLatentSpaceModel(LatentSpaceModel):\n",
    "    def __init__(self, V, D, X=None, b=None, alpha=4.0):\n",
    "        super(FactorialLatentSpaceModel, self).__init__(V, D, X=X, b=b)\n",
    "        self.ms = []\n",
    "        \n",
    "        # Set up the beta prior on M\n",
    "        self.alpha = alpha\n",
    "        self.rho = npr.beta(alpha / D, 1.0, size=D)\n",
    "\n",
    "    def add_data(self, A):\n",
    "        super(FactorialLatentSpaceModel, self).add_data(A)\n",
    "        self.ms.append(npr.rand(self.D) < self.rho)\n",
    "        \n",
    "    def resample(self):\n",
    "        self._resample_X()\n",
    "    \n",
    "    def _resample_X(self):\n",
    "        # resample rows one at a time given the remainder\n",
    "        #\n",
    "        #     p(x_v | A, {x_u}_{u \\neq v}, b)\n",
    "        #\n",
    "        # Since the matrix is symmetric, we only need the v-th column\n",
    "        # \n",
    "        # \\propto \\prod_{u != v} p(A_{u,v} | x_u, x_v, b)  p(x_v | 0, I)\n",
    "        # \\propto \\prod_{u != v} Bern(A_{u,v} | \\sigma(x_u \\dot x_v + b))  N(x_v | 0, I)\n",
    "        V, D = self.V, self.D\n",
    "        X, b = self.X, self.b\n",
    "        N = len(self.As)\n",
    "        for v in range(V):\n",
    "            # TODO: it's not quite as simple as before\n",
    "            #       now we need to incorporate obs only if m_nk = 1            \n",
    "            reg = BinomialRegression(N, D_out=1, D_in=D, \n",
    "                                     A=X[v][None,:], mu_A=0, sigmasq_A=1,\n",
    "                                     b=b*np.ones((1,1)), mu_b=b, sigmasq_b=1e-8)\n",
    "            nv = np.ones(V, dtype=bool); nv[v] = False\n",
    "            Xnv = X[nv]\n",
    "            Anv = np.sum([A[v][nv][:,None] for A in self.As], axis=0)            \n",
    "            reg.resample((Xnv, Anv))\n",
    "            X[v] = reg.A\n",
    "    \n",
    "    def _resample_b(self):\n",
    "        # A[u,v] ~ Bern(\\sigma(b + x_u * x_v))\n",
    "        pass\n",
    "    \n",
    "    def _resample_m(self):\n",
    "        pass\n",
    "    \n",
    "    def _resample_rho(self):\n",
    "        pass\n",
    "    \n",
    "    def edge_probabilities(self):\n",
    "        V, X, b = self.V, self.X, self.b\n",
    "        psi = X.dot(X.T) + b\n",
    "        return 1./(1+np.exp(-psi))\n",
    "            \n",
    "    def generate(self):\n",
    "        V, X, b = self.V, self.X, self.b\n",
    "        A = npr.rand(V,V) < self.rho()\n",
    "        # A[np.triu_indices(V)] = A[np.tril_indices(V)] \n",
    "        A[np.arange(V), np.arange(V)] = 0\n",
    "        for u in range(V):\n",
    "            for v in range(u):\n",
    "                A[u,v] = A[v,u]\n",
    "        return A\n",
    "    "
   ]
  }
 ],
 "metadata": {
  "kernelspec": {
   "display_name": "Python [Root]",
   "language": "python",
   "name": "Python [Root]"
  },
  "language_info": {
   "codemirror_mode": {
    "name": "ipython",
    "version": 3
   },
   "file_extension": ".py",
   "mimetype": "text/x-python",
   "name": "python",
   "nbconvert_exporter": "python",
   "pygments_lexer": "ipython3",
   "version": "3.5.3"
  }
 },
 "nbformat": 4,
 "nbformat_minor": 0
}
